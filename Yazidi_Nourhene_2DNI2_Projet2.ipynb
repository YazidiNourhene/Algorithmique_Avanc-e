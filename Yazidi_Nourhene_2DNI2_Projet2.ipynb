{
 "cells": [
  {
   "cell_type": "markdown",
   "metadata": {},
   "source": [
    "# Les bibliothèques utilisés:"
   ]
  },
  {
   "cell_type": "code",
   "execution_count": null,
   "metadata": {},
   "outputs": [],
   "source": [
    "import numpy\n",
    "import random\n",
    "from random import randint\n",
    "import time\n",
    "import timeit\n",
    "import matplotlib.pyplot as plt"
   ]
  },
  {
   "cell_type": "markdown",
   "metadata": {},
   "source": [
    "# Tableau aléatoire de n entiers:"
   ]
  },
  {
   "cell_type": "code",
   "execution_count": null,
   "metadata": {},
   "outputs": [],
   "source": [
    "def randlist(n):\n",
    "    return([randint(1,100) for i in range(n)])"
   ]
  },
  {
   "cell_type": "markdown",
   "metadata": {},
   "source": [
    "# Tri pa sélection:"
   ]
  },
  {
   "cell_type": "code",
   "execution_count": null,
   "metadata": {},
   "outputs": [],
   "source": [
    "def tri_selection(tab):\n",
    "   for i in range(len(tab)):\n",
    "       min = i\n",
    "       for j in range(i+1, len(tab)):\n",
    "           if tab[min] > tab[j]:\n",
    "               min = j        \n",
    "       tmp = tab[i]\n",
    "       tab[i] = tab[min]\n",
    "       tab[min] = tmp\n",
    "   return tab"
   ]
  },
  {
   "cell_type": "code",
   "execution_count": null,
   "metadata": {},
   "outputs": [],
   "source": [
    "from functools import partial\n",
    "x,y=[],[]\n",
    "for i in range(10,1000,10):\n",
    "    testTimer=timeit.Timer(partial(tri_selection,randlist(i)))\n",
    "    t=testTimer.timeit(number=10)\n",
    "    x.append(i)\n",
    "    y.append(t)"
   ]
  },
  {
   "cell_type": "code",
   "execution_count": null,
   "metadata": {},
   "outputs": [],
   "source": [
    "plt.plot(x,y,\"purple\")"
   ]
  },
  {
   "cell_type": "markdown",
   "metadata": {},
   "source": [
    "# Tri à bulle:"
   ]
  },
  {
   "cell_type": "code",
   "execution_count": null,
   "metadata": {},
   "outputs": [],
   "source": [
    "def tri_bulle(tab):\n",
    "    n = len(tab)\n",
    "    # Traverser tous les éléments du tableau\n",
    "    for i in range(n):\n",
    "        for j in range(0, n-i-1):\n",
    "            # échanger si l'élément trouvé est plus grand que le suivant\n",
    "            if tab[j] > tab[j+1] :\n",
    "                tab[j], tab[j+1] = tab[j+1], tab[j]\n",
    "    return tab"
   ]
  },
  {
   "cell_type": "code",
   "execution_count": null,
   "metadata": {},
   "outputs": [],
   "source": [
    "from functools import partial\n",
    "x,y=[],[]\n",
    "for i in range(10,1000,10):\n",
    "    testTimer=timeit.Timer(partial(tri_bulle,randlist(i)))\n",
    "    t=testTimer.timeit(number=10)\n",
    "    x.append(i)\n",
    "    y.append(t)"
   ]
  },
  {
   "cell_type": "code",
   "execution_count": null,
   "metadata": {},
   "outputs": [],
   "source": [
    "plt.plot(x,y,\"purple\")"
   ]
  },
  {
   "cell_type": "markdown",
   "metadata": {},
   "source": [
    "# Tri par insertion:"
   ]
  },
  {
   "cell_type": "code",
   "execution_count": null,
   "metadata": {},
   "outputs": [],
   "source": [
    "def tri_insertion(liste):\n",
    "    L = list(liste) \n",
    "    N = len(L)\n",
    "    for n in range(1,N):\n",
    "        cle = L[n]\n",
    "        j = n-1\n",
    "        while j>=0 and L[j] > cle:\n",
    "            L[j+1] = L[j] # decalage\n",
    "            j = j-1\n",
    "        L[j+1] = cle\n",
    "    return L\n",
    "    \n",
    "liste = []\n",
    "for k in range(10):\n",
    "    liste.append(random.randint(0,20))\n",
    "liste_triee = tri_insertion(liste)"
   ]
  },
  {
   "cell_type": "code",
   "execution_count": null,
   "metadata": {},
   "outputs": [],
   "source": [
    "from functools import partial\n",
    "x,y=[],[]\n",
    "for i in range(10,1000,10):\n",
    "    testTimer=timeit.Timer(partial(tri_insertion,randlist(i)))\n",
    "    t=testTimer.timeit(number=10)\n",
    "    x.append(i)\n",
    "    y.append(t)"
   ]
  },
  {
   "cell_type": "code",
   "execution_count": null,
   "metadata": {},
   "outputs": [],
   "source": [
    "plt.plot(x,y,\"purple\")"
   ]
  },
  {
   "cell_type": "markdown",
   "metadata": {},
   "source": [
    "# Tri par fusion:"
   ]
  },
  {
   "cell_type": "code",
   "execution_count": null,
   "metadata": {},
   "outputs": [],
   "source": [
    "def fusion(L1,L2):\n",
    "    n1 = len(L1)\n",
    "    n2 = len(L2)\n",
    "    L12 = [0]*(n1+n2)\n",
    "    i1 = 0\n",
    "    i2 = 0\n",
    "    i = 0\n",
    "    while i1<n1 and i2<n2:\n",
    "        if L1[i1] < L2[i2]:\n",
    "            L12[i] = L1[i1]\n",
    "            i1 += 1\n",
    "        else:\n",
    "            L12[i] = L2[i2]\n",
    "            i2 += 1\n",
    "        i += 1\n",
    "    while i1<n1:\n",
    "        L12[i] = L1[i1]\n",
    "        i1 += 1\n",
    "        i += 1\n",
    "    while i2<n2:\n",
    "        L12[i] = L2[i2]\n",
    "        i2 += 1\n",
    "        i += 1 \n",
    "    return L12"
   ]
  },
  {
   "cell_type": "code",
   "execution_count": null,
   "metadata": {},
   "outputs": [],
   "source": [
    "from functools import partial\n",
    "x,y=[],[]\n",
    "for i in range(10,1000,10):\n",
    "    testTimer=timeit.Timer(partial(fusion,randlist(i)))\n",
    "    t=testTimer.timeit(number=10)\n",
    "    x.append(i)\n",
    "    y.append(t)"
   ]
  },
  {
   "cell_type": "code",
   "execution_count": null,
   "metadata": {},
   "outputs": [],
   "source": [
    "plt.plot(x,y,marker='^')"
   ]
  },
  {
   "cell_type": "markdown",
   "metadata": {},
   "source": [
    "# Tri rapide"
   ]
  },
  {
   "cell_type": "code",
   "execution_count": null,
   "metadata": {},
   "outputs": [],
   "source": [
    "def tri_rapide(L):\n",
    "    n = len(L)\n",
    "    pivot = L[n-1]\n",
    "    i = 0\n",
    "    j = 0\n",
    "    while j < n-1:\n",
    "        if L[j] <= pivot:\n",
    "            L[i],L[j] = L[j],L[i]\n",
    "            i += 1\n",
    "        j += 1\n",
    "    L[n-1],L[i] = L[i],L[n-1]"
   ]
  },
  {
   "cell_type": "code",
   "execution_count": null,
   "metadata": {},
   "outputs": [],
   "source": [
    "liste = []\n",
    "for k in range(11):\n",
    "    liste.append(random.randint(0,40))"
   ]
  },
  {
   "cell_type": "code",
   "execution_count": null,
   "metadata": {},
   "outputs": [],
   "source": [
    "from functools import partial\n",
    "x,y=[],[]\n",
    "for i in range(10,1000,10):\n",
    "    testTimer=timeit.Timer(partial(tri_rapide,randlist(i)))\n",
    "    t=testTimer.timeit(number=10)\n",
    "    x.append(i)\n",
    "    y.append(t)"
   ]
  },
  {
   "cell_type": "code",
   "execution_count": null,
   "metadata": {},
   "outputs": [],
   "source": [
    "plt.plot(x,y,\"purple\")"
   ]
  },
  {
   "cell_type": "code",
   "execution_count": null,
   "metadata": {},
   "outputs": [],
   "source": []
  }
 ],
 "metadata": {
  "kernelspec": {
   "display_name": "Python 3",
   "language": "python",
   "name": "python3"
  },
  "language_info": {
   "codemirror_mode": {
    "name": "ipython",
    "version": 3
   },
   "file_extension": ".py",
   "mimetype": "text/x-python",
   "name": "python",
   "nbconvert_exporter": "python",
   "pygments_lexer": "ipython3",
   "version": "3.8.3"
  }
 },
 "nbformat": 4,
 "nbformat_minor": 4
}
